{
  "nbformat": 4,
  "nbformat_minor": 0,
  "metadata": {
    "colab": {
      "private_outputs": true,
      "provenance": [],
      "authorship_tag": "ABX9TyPGG4AlQq+1CnLrPyz7KUKb",
      "include_colab_link": true
    },
    "kernelspec": {
      "name": "python3",
      "display_name": "Python 3"
    },
    "language_info": {
      "name": "python"
    }
  },
  "cells": [
    {
      "cell_type": "markdown",
      "metadata": {
        "id": "view-in-github",
        "colab_type": "text"
      },
      "source": [
        "<a href=\"https://colab.research.google.com/github/Mikheltodd/introductionupb202410/blob/main/Funciones.ipynb\" target=\"_parent\"><img src=\"https://colab.research.google.com/assets/colab-badge.svg\" alt=\"Open In Colab\"/></a>"
      ]
    },
    {
      "cell_type": "code",
      "execution_count": null,
      "metadata": {
        "id": "pNF8PO_C09A4"
      },
      "outputs": [],
      "source": [
        "def hipotenusa(a, b):\n",
        "  return ( a ** 2 + b ** 2 ) ** (1 / 2)\n",
        "\n",
        "a = 3\n",
        "b = 4\n",
        "\n",
        "print(hipotenusa(a, b))"
      ]
    },
    {
      "cell_type": "code",
      "source": [
        "student_1 = {\"name\": \"Homero\", \"edad\": 15, \"genero\": \"M\", \"promedio\": 2.5}\n",
        "student_2 = {\"name\": \"Lisa\", \"edad\": 14, \"genero\": \"F\", \"promedio\": 4.8}\n",
        "student_3 = {\"name\": \"Bart\", \"edad\":14, \"genero\": \"M\", \"promedio\": 2.9}\n",
        "\n",
        "students = [student_1, student_2, student_3]\n",
        "\n",
        "#print(students)\n",
        "\n",
        "#Imprimir lista de estudiantes\n",
        "\n",
        "for student in students:\n",
        "  print(student[\"name\"])\n",
        "\n",
        "#Promedio de edades\n",
        "edad_prom = 0\n",
        "if len(students) > 0:\n",
        "  for student in students:\n",
        "    edad_prom += student[\"edad\"]\n",
        "  edad_prom /= len(students)\n",
        "  print(f\"Edad promedio: {edad_prom:.2f}\")\n",
        "else:\n",
        "  print(\"No hay estudiantes en la lista.\")\n",
        "\n",
        "#Promedio de notas\n",
        "nota_prom = 0\n",
        "if len(students) > 0:\n",
        "  for student in students:\n",
        "    nota_prom += student[\"promedio\"]\n",
        "  nota_prom /= len(students)\n",
        "  print(f\"Nota promedio: {nota_prom:.2f}\")\n",
        "else:\n",
        "  print(\"No hay estudiantes en la lista.\")"
      ],
      "metadata": {
        "id": "lp97-wK71Xl4"
      },
      "execution_count": null,
      "outputs": []
    },
    {
      "cell_type": "code",
      "source": [
        "registro_1 = {\"datetime\": \"2024-04-03 13:07\" ,\"humedad\": 0.20, \"nivel\": 10}"
      ],
      "metadata": {
        "id": "T6EsZrWuFyXC"
      },
      "execution_count": null,
      "outputs": []
    },
    {
      "cell_type": "code",
      "source": [
        "frase = \"A la grande le puse Pucca\"\n",
        "nombre = \"pucca\"\n",
        "\n",
        "def validar_nombre_en_frase(frase, nombre):\n",
        "    if nombre.lower() in frase.lower():\n",
        "        print(\"El nombre sí está en la frase\")\n",
        "    else:\n",
        "        print(\"El nombre no está en la frase\")\n",
        "\n",
        "validar_nombre_en_frase(frase, nombre)\n",
        "\n",
        "frase = \"Mi nombre es Bond. James Bond\"\n",
        "nombre = \"Clark\"\n",
        "\n",
        "validar_nombre_en_frase(frase, nombre)"
      ],
      "metadata": {
        "id": "AmzbMmSeJRVU"
      },
      "execution_count": null,
      "outputs": []
    },
    {
      "cell_type": "code",
      "source": [
        "def letras_intercaladas(word):\n",
        "    new_word = \"\"\n",
        "    for i in range(0, len(word), 2):\n",
        "        new_word += word[i]\n",
        "    return new_word\n",
        "\n",
        "word = \"Miguelangelo\"\n",
        "new_word = letras_intercaladas(word)\n",
        "print(new_word)"
      ],
      "metadata": {
        "id": "FFmKyFhpQKYO"
      },
      "execution_count": null,
      "outputs": []
    },
    {
      "cell_type": "code",
      "source": [
        "def invertir_palabra(word):\n",
        "    new_word = \"\"\n",
        "    for i in range(len(word)-1, -1, -1):\n",
        "        new_word += word[i]\n",
        "    return new_word\n",
        "\n",
        "new_word = invertir_palabra(\"Inmarcesible\")\n",
        "print(new_word)"
      ],
      "metadata": {
        "id": "rd-0_bgIQVic"
      },
      "execution_count": null,
      "outputs": []
    },
    {
      "cell_type": "code",
      "source": [
        "def invertir_palabra(word):\n",
        "    return word[::-1]\n",
        "\n",
        "new_word = invertir_palabra(\"Salchipapa\")\n",
        "print(new_word)"
      ],
      "metadata": {
        "id": "oZNYNC86QV6F"
      },
      "execution_count": null,
      "outputs": []
    },
    {
      "cell_type": "code",
      "source": [
        "def es_palindrome(frase):\n",
        "    x = \"\".join(frase.split()).lower()\n",
        "    if x == x[::-1]:\n",
        "        print(\"La frase es palíndrome.\")\n",
        "    else:\n",
        "        print(\"La frase NO es palíndrome.\")\n",
        "\n",
        "es_palindrome(\"amo la paloma\")\n",
        "es_palindrome(\"anita lava la tina\")\n",
        "es_palindrome(\"Dabale arroz a la zorra el abad\")\n",
        "es_palindrome(\"Rayos\")"
      ],
      "metadata": {
        "id": "1nHDkgj2QZPh"
      },
      "execution_count": null,
      "outputs": []
    }
  ]
}