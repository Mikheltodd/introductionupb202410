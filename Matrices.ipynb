{
  "nbformat": 4,
  "nbformat_minor": 0,
  "metadata": {
    "colab": {
      "private_outputs": true,
      "provenance": [],
      "mount_file_id": "1ZWoKZFr6V6OMh2ZToBvc1U4chV2iz7ui",
      "authorship_tag": "ABX9TyNoP8dtoM4pUxL7axbTE6tU",
      "include_colab_link": true
    },
    "kernelspec": {
      "name": "python3",
      "display_name": "Python 3"
    },
    "language_info": {
      "name": "python"
    }
  },
  "cells": [
    {
      "cell_type": "markdown",
      "metadata": {
        "id": "view-in-github",
        "colab_type": "text"
      },
      "source": [
        "<a href=\"https://colab.research.google.com/github/Mikheltodd/introductionupb202410/blob/main/Matrices.ipynb\" target=\"_parent\"><img src=\"https://colab.research.google.com/assets/colab-badge.svg\" alt=\"Open In Colab\"/></a>"
      ]
    },
    {
      "cell_type": "code",
      "execution_count": null,
      "metadata": {
        "id": "UjJDVwHprwMI"
      },
      "outputs": [],
      "source": [
        "matrix = []\n",
        "rows = 3\n",
        "columns = 3\n",
        "counter = 1\n",
        "for i in range(rows):\n",
        "  temp_row = []\n",
        "  for j in range(columns):\n",
        "    temp_row.append(counter)\n",
        "    # temp.append(\" _ \")\n",
        "    counter += 1\n",
        "  matrix.append(temp_row)\n",
        "\n",
        "# print(matrix)\n",
        "\n",
        "matrix_rows = len(matrix)\n",
        "if matrix_rows > 0:\n",
        "  matrix_columns = len(matrix[0])\n",
        "for i in range(matrix_rows):\n",
        "  for j in range(matrix_columns):\n",
        "    print(matrix[i][j], end=\" \")\n",
        "  print()\n"
      ]
    },
    {
      "cell_type": "code",
      "source": [
        "def create_board(rows, columns):\n",
        "  board = []\n",
        "  for i in range(rows):\n",
        "    temp_row = []\n",
        "    for j in range(columns):\n",
        "      temp_row.append(0)\n",
        "    board.append(temp_row)\n",
        "  return board\n",
        "\n",
        "def show_board(board):\n",
        "  print()\n",
        "  board_rows = len(board)\n",
        "  board_columns = len(board[0])\n",
        "  for i in range(board_rows):\n",
        "    for j in range(board_columns):\n",
        "      print(board[i][j], end=\" \")\n",
        "    print()\n",
        "\n",
        "def board_txt(board):\n",
        "  txt = ''\n",
        "  board_rows = len(board)\n",
        "  board_columns = len(board[0])\n",
        "  for i in range(board_rows):\n",
        "    for j in range(board_columns):\n",
        "      txt += str(board[i][j]) + \" \"\n",
        "    txt += '\\n'\n",
        "  return txt\n",
        "\n",
        "board = create_board(3, 3)\n",
        "show_board(board)\n",
        "board[1][1] = \"x\"\n",
        "show_board(board)\n",
        "board[0][0] = \"x\"\n",
        "show_board(board)\n",
        "board[2][2] = \"x\"\n",
        "show_board(board)\n",
        "my_board = board_txt(board)\n",
        "print()\n",
        "print(my_board)"
      ],
      "metadata": {
        "id": "xmYjWoltrxfY"
      },
      "execution_count": null,
      "outputs": []
    },
    {
      "cell_type": "code",
      "source": [
        "from random import choice, sample, randint\n",
        "\n",
        "random_n = [randint(-10, 10) for i in range(10)]\n",
        "print(random_n)\n",
        "print(choice(random_n))\n",
        "print(sample(random_n, 2))\n",
        "# sample = 3\n",
        "print(sample(random_n, 2))"
      ],
      "metadata": {
        "id": "AHprpCPq1zfk"
      },
      "execution_count": null,
      "outputs": []
    },
    {
      "cell_type": "code",
      "source": [
        "path = '/content/sample_data/secret_message.txt'\n",
        "with open(path) as file_info:\n",
        "  message = file_info.read()\n",
        "print(message)\n"
      ],
      "metadata": {
        "id": "w4J_nxvEtoxa"
      },
      "execution_count": null,
      "outputs": []
    },
    {
      "cell_type": "code",
      "source": [
        "path = '/content/sample_data/secret_song.txt'\n",
        "with open(path) as file_info:\n",
        "  for line in file_info.readlines():\n",
        "    print(line, end='')"
      ],
      "metadata": {
        "id": "_nBq0hDWtqLw"
      },
      "execution_count": null,
      "outputs": []
    },
    {
      "cell_type": "code",
      "source": [
        "my_board = create_board(4, 4)\n",
        "my_board[2][2] = 'X'\n",
        "my_board[1][1] = 'X'\n",
        "show_board(my_board)\n",
        "my_board = board_txt(my_board)\n",
        "\n",
        "with open('/content/sample_data/my_text.txt', 'w') as file_info:\n",
        "  file_info.write(my_board)"
      ],
      "metadata": {
        "id": "ArTBCGTVtqN-"
      },
      "execution_count": null,
      "outputs": []
    },
    {
      "cell_type": "code",
      "source": [
        "my_board = create_board(5, 5)\n",
        "my_board[2][3] = 'X'\n",
        "my_board[1][2] = 'X'\n",
        "show_board(my_board)\n",
        "my_board = board_txt(my_board)\n",
        "\n",
        "with open('/content/sample_data/my_text.txt', 'a') as file_info:\n",
        "  file_info.write(my_board)"
      ],
      "metadata": {
        "id": "rZPV7pxttqQb"
      },
      "execution_count": null,
      "outputs": []
    },
    {
      "cell_type": "code",
      "source": [
        "name = 'Miguel Angel Ortiz Padilla'\n",
        "path = '/content/sample_data/new_text.txt'\n",
        "with open(path, 'w') as file_info:\n",
        "  file_info.write(name)\n",
        "\n",
        "with open(path, 'a') as file_info:\n",
        "  for i in range(10):\n",
        "    file_info.write(\"Gato \" * i + '\\n')\n",
        "\n",
        "with open(path, 'r') as file_info:\n",
        "  content = file_info.read()\n",
        "print(content)"
      ],
      "metadata": {
        "id": "pioN04u8tqSv"
      },
      "execution_count": null,
      "outputs": []
    },
    {
      "cell_type": "code",
      "source": [],
      "metadata": {
        "id": "b84UySB3PvLA"
      },
      "execution_count": null,
      "outputs": []
    },
    {
      "cell_type": "code",
      "source": [
        "import csv\n",
        "ages = []\n",
        "with open('/content/sample_data/edades.csv') as file_info:\n",
        "  file_reader = csv.DictReader(file_info)\n",
        "  for row in file_reader:\n",
        "    ages.append(int(row[\"Age\"]))\n",
        "\n",
        "print(ages)"
      ],
      "metadata": {
        "id": "5JSz_Ii7tqVK"
      },
      "execution_count": null,
      "outputs": []
    },
    {
      "cell_type": "code",
      "source": [
        "import random\n",
        "\n",
        "path = './my_random_numbers.txt'\n",
        "def save_random(path):\n",
        "    n = random.randint(0, 10)\n",
        "    try:\n",
        "        with open(path, 'r') as file_info:\n",
        "            content = file_info.readlines()\n",
        "\n",
        "            s = int(content[-1].split(\", \")[-1]) + n\n",
        "            line = str(n) + \", \" + str(s)\n",
        "        with open(path, 'a') as file_info:\n",
        "            file_info.write(line + \"\\n\")\n",
        "    except FileNotFoundError:\n",
        "        with open(path, 'w') as file_info:\n",
        "            file_info.write(str(n) + \", \" + str(n) + \"\\n\")\n",
        "\n",
        "for i in range(10):\n",
        "   save_random(path)\n",
        "\n",
        "with open(path) as file_info:\n",
        "    print(file_info.read())"
      ],
      "metadata": {
        "id": "ApEHVd2ctqXf"
      },
      "execution_count": null,
      "outputs": []
    },
    {
      "cell_type": "code",
      "source": [],
      "metadata": {
        "id": "vsyWl8u2tqa2"
      },
      "execution_count": null,
      "outputs": []
    },
    {
      "cell_type": "code",
      "source": [
        "with open('/content/sample_data/secret_message.txt') as file_info:\n",
        "  message = file_info.read()\n",
        "print(message)"
      ],
      "metadata": {
        "id": "Hv90QTW292UV"
      },
      "execution_count": null,
      "outputs": []
    },
    {
      "cell_type": "code",
      "source": [
        "with open('/content/sample_data/secret_song.txt') as file_info:\n",
        "  for line in file_info.readlines():\n",
        "    print(line)"
      ],
      "metadata": {
        "id": "jwh1okrToY6s"
      },
      "execution_count": null,
      "outputs": []
    },
    {
      "cell_type": "code",
      "source": [
        "with open('/content/sample_data/secret_song.txt') as file_info:\n",
        "  first_line = file_info.readline()\n",
        "  second_line = file_info.readline()\n",
        "print(first_line)\n",
        "print(second_line)"
      ],
      "metadata": {
        "id": "sHgCPR5cpCoR"
      },
      "execution_count": null,
      "outputs": []
    },
    {
      "cell_type": "code",
      "source": [
        "message = \"Mikheltodd\"\n",
        "with open('/content/sample_data/my_text.txt', 'w') as file_info:\n",
        "  file_info.write(message)"
      ],
      "metadata": {
        "id": "FhHIkeHVpWZd"
      },
      "execution_count": null,
      "outputs": []
    },
    {
      "cell_type": "code",
      "source": [
        "with open('/content/sample_data/my_text.txt', 'a') as file_info:\n",
        "  file_info.write(\"\\nMigue\")"
      ],
      "metadata": {
        "id": "lISFCmOkptrJ"
      },
      "execution_count": null,
      "outputs": []
    },
    {
      "cell_type": "code",
      "source": [
        "with open('/content/sample_data/users_data.csv') as file_info:\n",
        "  print(file_info.read())"
      ],
      "metadata": {
        "id": "A7Fd49nqp6Lt"
      },
      "execution_count": null,
      "outputs": []
    },
    {
      "cell_type": "code",
      "source": [
        "import csv\n",
        "ages = []\n",
        "with open('/content/sample_data/users_data.csv') as file_info:\n",
        "  file_reader = csv.DictReader(file_info)\n",
        "  for row in file_reader:\n",
        "    ages.append(row[\"Age\"])\n",
        "\n",
        "for age in ages:\n",
        "  print(age, end=\" \")"
      ],
      "metadata": {
        "id": "4czPLFwGqiou"
      },
      "execution_count": null,
      "outputs": []
    },
    {
      "cell_type": "markdown",
      "source": [],
      "metadata": {
        "id": "Q_6WP2lSr_Cs"
      }
    }
  ]
}