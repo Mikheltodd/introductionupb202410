{
  "nbformat": 4,
  "nbformat_minor": 0,
  "metadata": {
    "colab": {
      "private_outputs": true,
      "provenance": [],
      "authorship_tag": "ABX9TyN74ktqluY8/p5lnT0+GpRV",
      "include_colab_link": true
    },
    "kernelspec": {
      "name": "python3",
      "display_name": "Python 3"
    },
    "language_info": {
      "name": "python"
    }
  },
  "cells": [
    {
      "cell_type": "markdown",
      "metadata": {
        "id": "view-in-github",
        "colab_type": "text"
      },
      "source": [
        "<a href=\"https://colab.research.google.com/github/Mikheltodd/introductionupb202410/blob/main/Ciclos.ipynb\" target=\"_parent\"><img src=\"https://colab.research.google.com/assets/colab-badge.svg\" alt=\"Open In Colab\"/></a>"
      ]
    },
    {
      "cell_type": "code",
      "execution_count": null,
      "metadata": {
        "id": "M4tWDhnGkjZx"
      },
      "outputs": [],
      "source": [
        "# Program calcular_suma_usuario\n",
        "# Start\n",
        "# \tDeclare Real sum_x, x\n",
        "# \tSet sum_x = 0\n",
        "# \tDisplay \"Bienvenido al programa Calcular Suma.\"\n",
        "# \tDisplay \"Ingrese los números cuando se le solicite.\"\n",
        "# \tDisplay \"Para finalizar, ingrese 0.\"\n",
        "# \tDisplay \"Ingrese el primer valor: \"\n",
        "# \tInput x\n",
        "# \tSet sum_x = sum_x + x\n",
        "# \tWhile x != 0 Then\n",
        "# \t\tDisplay \"Ingrese el siguiente valor: \"\n",
        "# \t\tInput x\n",
        "# \t\tSet sum_x = sum_x + x\n",
        "# \tEnd While\n",
        "# \tDisplay \"La suma es \", sum_x\n",
        "# Stop\n",
        "\n",
        "sum_x = 0\n",
        "message = \"\"\"\n",
        "Bienvenido al programa Calcular Suma.\n",
        "Ingrese los números cuando se le solicite.\n",
        "Para finalizar, ingrese 0.\n",
        "Ingrese el primer valor:\n",
        "\"\"\"\n",
        "print(message)\n",
        "x = float(input())\n",
        "sum_x += x\n",
        "\n",
        "while x != 0:\n",
        "  print(\"Ingrese el siguiente valor: \")\n",
        "  x = float(input())\n",
        "  sum_x +=  x\n",
        "\n",
        "print(f\"La suma es {sum_x}\")\n"
      ]
    },
    {
      "cell_type": "code",
      "source": [
        "# Program calcular_promedio_ponderado\n",
        "# Start\n",
        "# \tDeclare Integer N\n",
        "# \tDeclare Real nota, peso, prom, sum_prod, sum_pes\n",
        "\n",
        "# \tDisplay \"Ingrese el número de notas: \"\n",
        "# \tInput N\n",
        "# \tSet sum_prod = 0\n",
        "# \tSet sum_pes = 0\n",
        "# \tFor i = 1 To N\n",
        "# \t\tDisplay \"Ingrese nota: \"\n",
        "# \t\tInput nota\n",
        "# \t\tDisplay \"Ingrese peso: \"\n",
        "# \t\tInput peso\n",
        "# \t\tSet sum_prod += nota * peso / 100\n",
        "# \t\tSet sum_pes += peso / 100\n",
        "# \tEnd For\n",
        "# \tIf sum_pes != 0 Then\n",
        "# \t\tSet prom = sum_prod / sum_pes\n",
        "# \t\tDisplay prom\n",
        "# \t\tIf prom > 3 Then\n",
        "# \t\t\tDisplay \"Va ganando.\"\n",
        "# \t\tElse\n",
        "# \t\t\tDisplay \"Va perdiendo.\"\n",
        "# \t\tEnd If\n",
        "# \tElse\n",
        "# \t\tDisplay \"No se puede calcular el promedio.\"\n",
        "# \tEnd if\n",
        "# Stop\n",
        "\n",
        "N = int(input(\"Ingrese el número de notas: \"))\n",
        "sum_prod = 0\n",
        "sum_pes = 0\n",
        "message = \"Resumen:\\n\"\n",
        "for i in range(N):\n",
        "  nota = float(input(\"Ingrese nota: \"))\n",
        "  peso = float(input(\"Ingrese peso: \"))\n",
        "  sum_prod += nota * peso / 100\n",
        "  sum_pes += peso / 100\n",
        "  message += f\"Nota: {nota}\\tPeso: {peso}%\\n\"\n",
        "\n",
        "if sum_pes != 0:\n",
        "  prom = sum_prod / sum_pes\n",
        "  # print(prom)\n",
        "  message += f\"Peso: {sum_pes * 100:.2f}%\\tPromedio: {prom:.2f}\"\n",
        "  print(message)\n",
        "  print(\"Va ganando\") if prom >= 3 else print(\"Va perdiendo\")\n",
        "else:\n",
        "  print(\"No se puede calcular el promedio.\")"
      ],
      "metadata": {
        "id": "XajHayMzl287"
      },
      "execution_count": null,
      "outputs": []
    },
    {
      "cell_type": "code",
      "source": [],
      "metadata": {
        "id": "xZZuXdyemn7B"
      },
      "execution_count": null,
      "outputs": []
    },
    {
      "cell_type": "markdown",
      "source": [
        "```\n",
        "Program x\n",
        "Start\n",
        "\n",
        "Stop\n",
        "```"
      ],
      "metadata": {
        "id": "x9daNyoxx_Cf"
      }
    },
    {
      "cell_type": "code",
      "source": [],
      "metadata": {
        "id": "L-goKM4b46oL"
      },
      "execution_count": null,
      "outputs": []
    }
  ]
}