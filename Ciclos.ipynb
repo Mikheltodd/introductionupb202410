{
  "nbformat": 4,
  "nbformat_minor": 0,
  "metadata": {
    "colab": {
      "private_outputs": true,
      "provenance": [],
      "authorship_tag": "ABX9TyNfO6DoNn/ObPz61Qb9CeXM",
      "include_colab_link": true
    },
    "kernelspec": {
      "name": "python3",
      "display_name": "Python 3"
    },
    "language_info": {
      "name": "python"
    }
  },
  "cells": [
    {
      "cell_type": "markdown",
      "metadata": {
        "id": "view-in-github",
        "colab_type": "text"
      },
      "source": [
        "<a href=\"https://colab.research.google.com/github/Mikheltodd/introductionupb202410/blob/main/Ciclos.ipynb\" target=\"_parent\"><img src=\"https://colab.research.google.com/assets/colab-badge.svg\" alt=\"Open In Colab\"/></a>"
      ]
    },
    {
      "cell_type": "code",
      "execution_count": null,
      "metadata": {
        "id": "M4tWDhnGkjZx"
      },
      "outputs": [],
      "source": [
        "# Program calcular_suma_usuario\n",
        "# Start\n",
        "# \tDeclare Real sum_x, x\n",
        "# \tSet sum_x = 0\n",
        "# \tDisplay \"Bienvenido al programa Calcular Suma.\"\n",
        "# \tDisplay \"Ingrese los números cuando se le solicite.\"\n",
        "# \tDisplay \"Para finalizar, ingrese 0.\"\n",
        "# \tDisplay \"Ingrese el primer valor: \"\n",
        "# \tInput x\n",
        "# \tSet sum_x = sum_x + x\n",
        "# \tWhile x != 0 Then\n",
        "# \t\tDisplay \"Ingrese el siguiente valor: \"\n",
        "# \t\tInput x\n",
        "# \t\tSet sum_x = sum_x + x\n",
        "# \tEnd While\n",
        "# \tDisplay \"La suma es \", sum_x\n",
        "# Stop\n",
        "\n",
        "sum_x = 0\n",
        "message = \"\"\"\n",
        "Bienvenido al programa Calcular Suma.\n",
        "Ingrese los números cuando se le solicite.\n",
        "Para finalizar, ingrese 0.\n",
        "Ingrese el primer valor:\n",
        "\"\"\"\n",
        "print(message)\n",
        "x = float(input())\n",
        "sum_x += x\n",
        "\n",
        "while x != 0:\n",
        "  print(\"Ingrese el siguiente valor: \")\n",
        "  x = float(input())\n",
        "  sum_x +=  x\n",
        "\n",
        "print(f\"La suma es {sum_x}\")\n"
      ]
    },
    {
      "cell_type": "code",
      "source": [
        "# Program calcular_promedio_ponderado\n",
        "# Start\n",
        "# \tDeclare Integer N\n",
        "# \tDeclare Real nota, peso, prom, sum_prod, sum_pes\n",
        "\n",
        "# \tDisplay \"Ingrese el número de notas: \"\n",
        "# \tInput N\n",
        "# \tSet sum_prod = 0\n",
        "# \tSet sum_pes = 0\n",
        "# \tFor i = 1 To N\n",
        "# \t\tDisplay \"Ingrese nota: \"\n",
        "# \t\tInput nota\n",
        "# \t\tDisplay \"Ingrese peso: \"\n",
        "# \t\tInput peso\n",
        "# \t\tSet sum_prod += nota * peso / 100\n",
        "# \t\tSet sum_pes += peso / 100\n",
        "# \tEnd For\n",
        "# \tIf sum_pes != 0 Then\n",
        "# \t\tSet prom = sum_prod / sum_pes\n",
        "# \t\tDisplay prom\n",
        "# \t\tIf prom > 3 Then\n",
        "# \t\t\tDisplay \"Va ganando.\"\n",
        "# \t\tElse\n",
        "# \t\t\tDisplay \"Va perdiendo.\"\n",
        "# \t\tEnd If\n",
        "# \tElse\n",
        "# \t\tDisplay \"No se puede calcular el promedio.\"\n",
        "# \tEnd if\n",
        "# Stop\n",
        "\n",
        "N = int(input(\"Ingrese el número de notas: \"))\n",
        "sum_prod = 0\n",
        "sum_pes = 0\n",
        "message = \"Resumen:\\n\"\n",
        "for i in range(N):\n",
        "  nota = float(input(\"Ingrese nota: \"))\n",
        "  peso = float(input(\"Ingrese peso: \"))\n",
        "  sum_prod += nota * peso / 100\n",
        "  sum_pes += peso / 100\n",
        "  message += f\"Nota: {nota}\\tPeso: {peso:.2f}%\\n\"\n",
        "\n",
        "if sum_pes != 0:\n",
        "  prom = sum_prod / sum_pes\n",
        "  # print(prom)\n",
        "  message += f\"Peso: {sum_pes * 100:.2f}%\\tPromedio: {prom:.2f}\"\n",
        "  print(message)\n",
        "  print(\"Va ganando\") if prom >= 3 else print(\"Va perdiendo\")\n",
        "else:\n",
        "  print(\"No se puede calcular el promedio.\")"
      ],
      "metadata": {
        "id": "XajHayMzl287"
      },
      "execution_count": null,
      "outputs": []
    },
    {
      "cell_type": "markdown",
      "source": [
        "## Listas en Python"
      ],
      "metadata": {
        "id": "hZORDxd-PSwx"
      }
    },
    {
      "cell_type": "code",
      "source": [
        "fruits = ['manzana', 'naranja', 'pera', 'maracuyá', 'mango', 'pomelo']\n",
        "fruits.append('guanábana')\n",
        "fruits.append('ciruela')\n",
        "# print(fruits[0])\n",
        "# print(fruits[-1])\n",
        "# print(fruits[4])\n",
        "# print(fruits[:3])\n",
        "# print(fruits[4:])\n",
        "# print(fruits[:2] + fruits[3:])\n",
        "# print(fruits[2:5])\n",
        "# print(fruits)\n",
        "# fruits[2] = 'banano'\n",
        "# fruits[5] = 'mandarina'\n",
        "# print(fruits)\n",
        "# print(fruits)\n",
        "# fruits.remove('guanábana')\n",
        "# print(fruits)\n",
        "# print(fruits)\n",
        "# fruits.insert(2, 'piña')\n",
        "# print(fruits)\n",
        "# b = fruits.pop()\n",
        "# print(fruits)\n",
        "# a = fruits.pop(2)\n",
        "# print(fruits)\n",
        "# a = range(5)\n",
        "# print(a)\n",
        "# b = range(2,5)\n",
        "# print(b)\n",
        "# c = range(3, -5, 2)\n",
        "# print(c)\n",
        "# d = range(len(fruits))\n",
        "# print(d)\n",
        "# print(fruits)\n",
        "# fruits.sort(reverse=True)\n",
        "# a = sorted(fruits)\n",
        "# print(fruits)\n",
        "# print(a)"
      ],
      "metadata": {
        "id": "Qo_nnvQYPSNM"
      },
      "execution_count": null,
      "outputs": []
    },
    {
      "cell_type": "code",
      "source": [
        "fruits = ['manzana', 'naranja', 'pera', 'maracuyá', 'mango', 'pomelo']\n",
        "# for fruit in fruits:\n",
        "#   print(fruit)\n",
        "\n",
        "# for i in range(len(fruits)):\n",
        "#   print(f\"{i + 1}. {fruits[i]}\")\n",
        "\n",
        "# for i in range(5):\n",
        "#   print(i)\n",
        "\n",
        "# i = 0\n",
        "# while i < 5:\n",
        "#   print(i)\n",
        "#   i += 1\n",
        "\n",
        "# for i in range(10, -11, -2):\n",
        "#   print(i)\n",
        "\n",
        "# for fruit in fruits:\n",
        "#   print(fruit)\n",
        "#   if fruit == 'maracuyá':\n",
        "#     print(\"La encontré\")\n",
        "#     break\n",
        "# fruits.append('maracuyá')\n",
        "# fruits.append('fresa')\n",
        "# print(fruits)\n",
        "# for fruit in fruits:\n",
        "#   if fruit == 'maracuyá':\n",
        "#     continue\n",
        "#   print(fruit)\n",
        "\n",
        "extra_fruits = ['extra ' + fruit + ' ' + str(len(fruit)) for fruit in fruits]\n",
        "print(extra_fruits)"
      ],
      "metadata": {
        "id": "jfuEkMc0Pl8E"
      },
      "execution_count": null,
      "outputs": []
    },
    {
      "cell_type": "code",
      "source": [
        "import random\n",
        "sujeto = ['Mami ', 'Bebé ', 'Princes ', 'Mami ', 'Brrr ', 'Reina ', 'Hermosa ']\n",
        "intencion = ['yo quiero ', 'yo puedo ', 'yo vengo a ', 'voy a ', 'pretendo ', 'me gustaría ']\n",
        "accion = ['encendelte ', 'amalte ', 'ligar ', 'jugar ', 'cocinar ', 'trabajar ']\n",
        "adjetivo = ['suave ', 'lento ', 'rápido ', 'fuerte ', 'duro ', 'convencido ']\n",
        "duracion = ['hasta que salga el sol ', 'toda la noche ', 'hasta el amanecer ', 'todo el dia ', 'por la noche ']\n",
        "manera = ['sin anestecia.', 'sin compromiso.', 'feis to feis.', 'sin miedo.', 'intensamente.']\n",
        "palabras_reggaeton = [sujeto, intencion, accion, adjetivo, duracion, manera]\n",
        "message = str()\n",
        "for part in palabras_reggaeton:\n",
        "  message += random.choice(part) #+ '\\n'\n",
        "print(message)"
      ],
      "metadata": {
        "id": "qjnjxse4ShSL"
      },
      "execution_count": null,
      "outputs": []
    },
    {
      "cell_type": "code",
      "source": [
        "a = list(input(\"Ingrese números separados por coma (','): \"))\n",
        "numbers = []\n",
        "for i in range(len(a)):\n",
        "  if a[i] != ' ':\n",
        "    numbers.append(float(a[i]))\n",
        "print(numbers)"
      ],
      "metadata": {
        "id": "36OHbIIJakOw"
      },
      "execution_count": null,
      "outputs": []
    },
    {
      "cell_type": "code",
      "source": [
        "a = [1, 3, 5]\n",
        "b = [2, 4, 6]\n",
        "sum_a = 0\n",
        "sum_b = 0\n",
        "for element in a: sum_a += element\n",
        "for element in b: sum_b += element\n",
        "if sum_a > sum_b:\n",
        "  print('La suma de la primera lista es mayor.')\n",
        "elif sum_b > sum_a:\n",
        "  print('La suma de la segunda lista es mayor.')\n",
        "else:\n",
        "  print('Las sumas son iguales.')"
      ],
      "metadata": {
        "id": "js5koLbHeUZF"
      },
      "execution_count": null,
      "outputs": []
    },
    {
      "cell_type": "code",
      "source": [
        "import math\n",
        "\n",
        "print(math.pi)\n",
        "print(math.e)\n",
        "print(math.exp(3))\n",
        "print(math.sqrt(2))\n",
        "print(5e3)\n",
        "print(3e-2)"
      ],
      "metadata": {
        "id": "Fs9Gdu5ajkGI"
      },
      "execution_count": null,
      "outputs": []
    },
    {
      "cell_type": "code",
      "source": [],
      "metadata": {
        "id": "Vo-XWRxxkGFU"
      },
      "execution_count": null,
      "outputs": []
    }
  ]
}